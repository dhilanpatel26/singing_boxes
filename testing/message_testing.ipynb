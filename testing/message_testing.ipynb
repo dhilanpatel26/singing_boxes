{
 "cells": [
  {
   "cell_type": "code",
   "execution_count": 1,
   "metadata": {},
   "outputs": [],
   "source": [
    "import time\n",
    "import sys\n",
    "import random\n",
    "from datetime import timedelta\n",
    "from uuid import getnode\n",
    "from enum import Enum"
   ]
  },
  {
   "cell_type": "code",
   "execution_count": 37,
   "metadata": {},
   "outputs": [],
   "source": [
    "# define lower and upper limits of random delay for response to attendance messages\n",
    "RAND_LOWER = 0\n",
    "RAND_UPPER = 0.5\n",
    "WAIT_FOR_ATTENDANCE_SEC = (\n",
    "    2  # how many seconds to wait for message before taking leader position\n",
    ")\n",
    "ATTENDANCE_RESPONSE_SEC = 1.5  # send duration for follower responses\n",
    "SEND_LIST_DELAY = 0.1  # how long to wait between list messages\n",
    "WAIT_FOR_CHECK_IN_RESPONSE = 0.1  # how long to wait for response from device\n",
    "CHECK_IN_DELAY = 0.1  # how long to delay before sending next check in message\n",
    "\n",
    "# define bit masks and shifts based on message details\n",
    "class ActionCodes(Enum):\n",
    "    ATTENDANCE = 0b1000\n",
    "    RESPONSE = 0b0001\n",
    "    SONG = 0b0010\n",
    "    FIRST_LIST = 0b0011  # first list message (not necessary if we have followers add leader to list by default when attendance msg is heard)\n",
    "    N_LIST = 0b0100  # following list messages\n",
    "    CHECK_IN = 0b0101\n",
    "    DELETE = 0b0110\n",
    "\n",
    "\n",
    "class MessageBits(Enum):\n",
    "    # messages are formatted with action as least significant bits\n",
    "    # option bits are most significant\n",
    "    # 9223372036854775807 is max 48 bit integer\n",
    "    # 65535 is max 16 bit integer\n",
    "    ACTION_LEN = 4\n",
    "    ACTION_SHIFT = 0\n",
    "    ACTION_MASK = 0xF << ACTION_SHIFT\n",
    "    FOLLOW_ADDR_LEN = 48\n",
    "    FOLLOW_ADDR_SHIFT = ACTION_SHIFT + ACTION_LEN\n",
    "    FOLLOW_ADDR_MASK = 0xFFFFFFFFFFFF << FOLLOW_ADDR_SHIFT\n",
    "    LEADER_ADDR_LEN = 48\n",
    "    LEADER_ADDR_SHIFT = FOLLOW_ADDR_SHIFT + FOLLOW_ADDR_LEN\n",
    "    LEADER_ADDR_MASK = 0xFFFFFFFFFFFF << LEADER_ADDR_SHIFT\n",
    "    OPTION_LEN = 16\n",
    "    OPTION_SHIFT = LEADER_ADDR_SHIFT + LEADER_ADDR_LEN\n",
    "    OPTION_MASK = 0xFFFF << OPTION_SHIFT\n",
    "\n",
    "\n",
    "class Message:\n",
    "    def __init__(self, msg: int):\n",
    "        self.action = self.bit_masking(\n",
    "            msg, MessageBits.ACTION_MASK, MessageBits.ACTION_SHIFT\n",
    "        )\n",
    "        self.leader_addr = self.bit_masking(\n",
    "            msg, MessageBits.LEADER_ADDR_MASK, MessageBits.LEADER_ADDR_SHIFT\n",
    "        )\n",
    "        self.follow_addr = self.bit_masking(\n",
    "            msg, MessageBits.FOLLOW_ADDR_MASK, MessageBits.FOLLOW_ADDR_SHIFT\n",
    "        )\n",
    "        self.options = self.bit_masking(\n",
    "            msg, MessageBits.OPTION_MASK, MessageBits.OPTION_SHIFT\n",
    "        )\n",
    "\n",
    "        # negatives are trasmitted as two's complement\n",
    "        if self.options == (1 << MessageBits.OPTION_LEN.value) - 1:\n",
    "            self.options = -1\n",
    "\n",
    "    def bit_masking(self, msg, mask, shift):\n",
    "        return (msg & mask.value) >> shift.value\n",
    "\n",
    "    def __str__(self) -> str:\n",
    "        return f\"Message object w/ Action: {bin(self.action)},\\nLeader Address: {hex(self.leader_addr)}\\nFollower Address: {hex(self.follow_addr)}\\nOptions: {self.options}\"\n",
    "\n",
    "\n",
    "def create_message(\n",
    "    action: ActionCodes, follower_addr: int, leader_addr: int, options=None\n",
    "):\n",
    "    msg = 0\n",
    "    msg |= action.value << MessageBits.ACTION_SHIFT.value\n",
    "    msg |= follower_addr << MessageBits.FOLLOW_ADDR_SHIFT.value\n",
    "    msg |= leader_addr << MessageBits.LEADER_ADDR_SHIFT.value\n",
    "    if not options == None:\n",
    "        msg |= options << MessageBits.OPTION_SHIFT.value\n",
    "    return msg\n",
    "\n",
    "def remove_length_byte(msg):\n",
    "    mask = (1 << (msg.bit_length() - 8)) - 1\n",
    "    msg &= mask\n",
    "    return msg"
   ]
  },
  {
   "cell_type": "code",
   "execution_count": 5,
   "metadata": {},
   "outputs": [
    {
     "data": {
      "text/plain": [
       "1267650600228229401496703205376"
      ]
     },
     "execution_count": 5,
     "metadata": {},
     "output_type": "execute_result"
    }
   ],
   "source": [
    "1 << MessageBits.OPTION_SHIFT.value"
   ]
  },
  {
   "cell_type": "code",
   "execution_count": 14,
   "metadata": {},
   "outputs": [
    {
     "name": "stdout",
     "output_type": "stream",
     "text": [
      "0xffffffffffff0000000000000\n"
     ]
    }
   ],
   "source": [
    "print(hex(MessageBits.LEADER_ADDR_MASK.value))"
   ]
  },
  {
   "cell_type": "code",
   "execution_count": 31,
   "metadata": {},
   "outputs": [
    {
     "name": "stdout",
     "output_type": "stream",
     "text": [
      "-0b1000000100010000110010111100100111110111010001001111111111111111111111111111111111111111111111111000\n",
      "100\n"
     ]
    }
   ],
   "source": [
    "msg = create_message(ActionCodes.ATTENDANCE, 0, getnode(), -1)\n",
    "print(bin(msg))\n",
    "print(msg.bit_length())"
   ]
  },
  {
   "cell_type": "code",
   "execution_count": 38,
   "metadata": {},
   "outputs": [
    {
     "name": "stdout",
     "output_type": "stream",
     "text": [
      "Message object w/ Action: 0b1000,\n",
      "Leader Address: 0x7eef343608bb\n",
      "Follower Address: 0x0\n",
      "Options: -1\n"
     ]
    }
   ],
   "source": [
    "print(Message(msg))"
   ]
  },
  {
   "cell_type": "code",
   "execution_count": 27,
   "metadata": {},
   "outputs": [
    {
     "data": {
      "text/plain": [
       "65536"
      ]
     },
     "execution_count": 27,
     "metadata": {},
     "output_type": "execute_result"
    }
   ],
   "source": [
    "# 65535 >> 15\n",
    "1 << 16"
   ]
  },
  {
   "cell_type": "code",
   "execution_count": 46,
   "metadata": {},
   "outputs": [
    {
     "name": "stdout",
     "output_type": "stream",
     "text": [
      "00ff0000\n",
      "ff0000\n"
     ]
    }
   ],
   "source": [
    "a = (255<<16).to_bytes(length=4, byteorder='big')\n",
    "h = a.hex()\n",
    "print(h)\n",
    "\n",
    "print(h[2:])"
   ]
  }
 ],
 "metadata": {
  "kernelspec": {
   "display_name": "base",
   "language": "python",
   "name": "python3"
  },
  "language_info": {
   "codemirror_mode": {
    "name": "ipython",
    "version": 3
   },
   "file_extension": ".py",
   "mimetype": "text/x-python",
   "name": "python",
   "nbconvert_exporter": "python",
   "pygments_lexer": "ipython3",
   "version": "3.9.7"
  }
 },
 "nbformat": 4,
 "nbformat_minor": 2
}
